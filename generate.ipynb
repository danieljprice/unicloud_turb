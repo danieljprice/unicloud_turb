{
 "cells": [
  {
   "cell_type": "code",
   "execution_count": 1,
   "metadata": {},
   "outputs": [],
   "source": [
    "## generate.ipynb\n",
    "## Code to generate a Gaussian Random Field for velocities as a standard model for cloud\n",
    "## scale star formation simulations. The field is guaranteed to be solenoidal.\n",
    "\n",
    "import numpy as np\n",
    "import h5py"
   ]
  },
  {
   "cell_type": "code",
   "execution_count": 2,
   "metadata": {},
   "outputs": [],
   "source": [
    "def init_velocity_field(sigma, kspec, kmin, kmax, N, seed=42):\n",
    "    \"\"\"\n",
    "    Initializes a 3D, periodic gaussian random field with a given power spectrum\n",
    "\n",
    "    Parameters\n",
    "    ----------\n",
    "    kspec : float\n",
    "        The spectral index of the power spectrum\n",
    "    sigma : float\n",
    "        The standard deviation of the velocity field\n",
    "    kmin : float\n",
    "        The minimum wavenumber for the power spectrum\n",
    "    kmax : float\n",
    "        The maximum wavenumber for the power spectrum\n",
    "    N : int\n",
    "        The size of the grid (N x N x N)\n",
    "    \"\"\"\n",
    "    kmin *= 2*np.pi\n",
    "    kmax *= 2*np.pi\n",
    "    kx = np.fft.fftfreq(N, d=1./N) * 2*np.pi\n",
    "    ky = np.fft.fftfreq(N, d=1./N) * 2*np.pi\n",
    "    kz = np.fft.fftfreq(N, d=1./N) * 2*np.pi\n",
    "    KS = np.meshgrid(kx, ky, kz, indexing=\"ij\")\n",
    "    (KX, KY, KZ) = KS\n",
    "    K = np.sqrt(KX**2 + KY**2 + KZ**2)\n",
    "    mask = K > 0\n",
    "    mask1 = K < kmin\n",
    "    mask2 = K > kmax\n",
    "\n",
    "    VK = []\n",
    "    for i in range(3):\n",
    "        np.random.seed(seed + i)\n",
    "        vk = np.zeros((N,N,N), dtype=complex)\n",
    "        phase = np.fft.fftn(np.random.normal(size=(N,N,N)))\n",
    "        vk[mask] = (K[mask]**(-1*kspec))*phase[mask]\n",
    "        vk[mask1] = 0\n",
    "        vk[mask2] *= np.exp(-1*(K[mask2]/kmax)**2)*np.e\n",
    "        VK.append(vk)\n",
    "    VK = np.array(VK)\n",
    "\n",
    "    VKP = np.zeros_like(VK, dtype=complex)\n",
    "    for i in range(3):\n",
    "        for j in range(3):\n",
    "            if i == j:\n",
    "                VKP[i] += VK[j]\n",
    "            VKP[i][mask] -= (KS[i]*KS[j]*VK[j])[mask]/(K[mask]**2)\n",
    "\n",
    "    (vx, vy, vz) = [np.fft.ifftn(vk).real for vk in VKP]\n",
    "    sigma_res = np.sqrt(np.std(vx)**2 + np.std(vy)**2 + np.std(vz)**2)\n",
    "\n",
    "    vx *= sigma/sigma_res\n",
    "    vy *= sigma/sigma_res\n",
    "    vz *= sigma/sigma_res\n",
    "    return (vx,vy,vz)"
   ]
  },
  {
   "cell_type": "code",
   "execution_count": 3,
   "metadata": {},
   "outputs": [],
   "source": [
    "# Example usage\n",
    "N = 128\n",
    "sigma = 1.0\n",
    "kspec = 2\n",
    "kmin = 4\n",
    "kmax = 32\n",
    "# Lorentz's Birthday: 18th of July, 1853\n",
    "seed = 18071853\n",
    "\n",
    "\n",
    "(vx,vy,vz) = init_velocity_field(sigma, kspec, kmin, kmax, N, seed=seed)"
   ]
  },
  {
   "cell_type": "code",
   "execution_count": 4,
   "metadata": {},
   "outputs": [],
   "source": [
    "# Use H5py to create a HDF5 file that stores the velocity field information\n",
    "f = h5py.File(\"velocity_field.h5\", \"w\")\n",
    "f.create_dataset(\"vx\", data=vx)\n",
    "f.create_dataset(\"vy\", data=vy)\n",
    "f.create_dataset(\"vz\", data=vz)\n",
    "f.close()"
   ]
  },
  {
   "cell_type": "code",
   "execution_count": 5,
   "metadata": {},
   "outputs": [
    {
     "name": "stdout",
     "output_type": "stream",
     "text": [
      "Velocity field initialized with shape: (128, 128, 128)\n",
      "vx mean: 2.981555974335137e-19 std: 0.5742885300858656\n",
      "vy mean: -1.5449880957918438e-18 std: 0.5778606447860277\n",
      "vz mean: -1.870248747537495e-18 std: 0.5798877127679908\n"
     ]
    }
   ],
   "source": [
    "print(\"Velocity field initialized with shape:\", vx.shape)\n",
    "print(\"vx mean:\", np.mean(vx), \"std:\", np.std(vx))\n",
    "print(\"vy mean:\", np.mean(vy), \"std:\", np.std(vy))\n",
    "print(\"vz mean:\", np.mean(vz), \"std:\", np.std(vz))"
   ]
  },
  {
   "cell_type": "code",
   "execution_count": 6,
   "metadata": {},
   "outputs": [],
   "source": [
    "## How to read the velocity field back in\n",
    "with h5py.File(\"velocity_field.h5\", \"r\") as f:\n",
    "    vx = f[\"vx\"][:]\n",
    "    vy = f[\"vy\"][:]\n",
    "    vz = f[\"vz\"][:]\n",
    "f.close()"
   ]
  },
  {
   "cell_type": "code",
   "execution_count": 7,
   "metadata": {},
   "outputs": [
    {
     "data": {
      "text/plain": [
       "(128, 128, 128)"
      ]
     },
     "execution_count": 7,
     "metadata": {},
     "output_type": "execute_result"
    }
   ],
   "source": [
    "vz.shape"
   ]
  },
  {
   "cell_type": "code",
   "execution_count": null,
   "metadata": {},
   "outputs": [],
   "source": []
  }
 ],
 "metadata": {
  "kernelspec": {
   "display_name": "base",
   "language": "python",
   "name": "python3"
  },
  "language_info": {
   "codemirror_mode": {
    "name": "ipython",
    "version": 3
   },
   "file_extension": ".py",
   "mimetype": "text/x-python",
   "name": "python",
   "nbconvert_exporter": "python",
   "pygments_lexer": "ipython3",
   "version": "3.13.2"
  }
 },
 "nbformat": 4,
 "nbformat_minor": 2
}
